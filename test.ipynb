{
 "cells": [
  {
   "cell_type": "code",
   "execution_count": 9,
   "metadata": {},
   "outputs": [],
   "source": [
    "import kahypar_kgraph as kahypar\n",
    "import numpy as np"
   ]
  },
  {
   "cell_type": "code",
   "execution_count": 10,
   "metadata": {},
   "outputs": [],
   "source": [
    "ctx = kahypar.Context('cut_kKaHyPar_sea20')\n",
    "ctx.setK(2)\n",
    "ctx.setEpsilon(0.1)\n",
    "ctx.suppressOutput(True)"
   ]
  },
  {
   "cell_type": "code",
   "execution_count": 11,
   "metadata": {},
   "outputs": [
    {
     "data": {
      "text/plain": [
       "*******************************************************************************\n",
       "*                            Partitioning Context                             *\n",
       "*******************************************************************************\n",
       "Partitioning Parameters:\n",
       "  Hypergraph:                         \n",
       "  Partition File:                     \n",
       "  Mode:                               direct\n",
       "  Objective:                          cut\n",
       "  k:                                  2\n",
       "  epsilon:                            0.1\n",
       "  seed:                               -1\n",
       "  # V-cycles:                         0\n",
       "  time limit:                         -1s\n",
       "  hyperedge size ignore threshold:    1000\n",
       "  hyperedge size removal threshold:   4294967295\n",
       "  use individual block weights:       false\n",
       "-------------------------------------------------------------------------------\n",
       "Preprocessing Parameters:\n",
       "  enable deduplication:               false\n",
       "  enable min hash sparsifier:         true\n",
       "  enable community detection:         true\n",
       "-------------------------------------------------------------------------------\n",
       "MinHash Sparsifier Parameters:\n",
       "  max hyperedge size:                 1200\n",
       "  max cluster size:                   10\n",
       "  min cluster size:                   2\n",
       "  number of hash functions:           5\n",
       "  number of combined hash functions:  100\n",
       "  active at median net size >=:       28\n",
       "  sparsifier is active:               false\n",
       "-------------------------------------------------------------------------------\n",
       "Community Detection Parameters:\n",
       "  use community detection in IP:      true\n",
       "  maximum louvain-pass iterations:    100\n",
       "  minimum quality improvement:        0.0001\n",
       "  graph edge weight:                  hybrid\n",
       "  reuse community structure:          false\n",
       "  large HE threshold:                 1000\n",
       "-------------------------------------------------------------------------------\n",
       "Coarsening Parameters:\n",
       "  Algorithm:                          ml_style\n",
       "  max-allowed-weight-multiplier:      1\n",
       "  contraction-limit-multiplier:       160\n",
       "  hypernode weight fraction:          determined before IP\n",
       "  max. allowed hypernode weight:      determined before IP\n",
       "  contraction limit:                  determined before IP\n",
       "  Rating Parameters:\n",
       "    Rating Function:                  heavy_edge\n",
       "    Use Community Structure:          true\n",
       "    Heavy Node Penalty:               no_penalty\n",
       "    Acceptance Policy:                best_prefer_unmatched\n",
       "    Partition Policy:                 normal\n",
       "    Fixed Vertex Acceptance Policy:   fixed_vertex_allowed\n",
       "-------------------------------------------------------------------------------\n",
       "Initial Partitioning Parameters:\n",
       "  # IP trials:                        20\n",
       "  Mode:                               recursive\n",
       "  Technique:                          multilevel\n",
       "  Algorithm:                          pool\n",
       "  Bin Packing algorithm:              worst_fit\n",
       "    early restart on infeasible:      true\n",
       "    late restart on infeasible:       true\n",
       "IP Coarsening:                        \n",
       "Coarsening Parameters:\n",
       "  Algorithm:                          ml_style\n",
       "  max-allowed-weight-multiplier:      1\n",
       "  contraction-limit-multiplier:       150\n",
       "  hypernode weight fraction:          determined before IP\n",
       "  max. allowed hypernode weight:      determined before IP\n",
       "  contraction limit:                  determined before IP\n",
       "  Rating Parameters:\n",
       "    Rating Function:                  heavy_edge\n",
       "    Use Community Structure:          true\n",
       "    Heavy Node Penalty:               no_penalty\n",
       "    Acceptance Policy:                best_prefer_unmatched\n",
       "    Partition Policy:                 normal\n",
       "    Fixed Vertex Acceptance Policy:   fixed_vertex_allowed\n",
       "IP Local Search:                      \n",
       "Local Search Parameters:\n",
       "  Algorithm:                          twoway_fm\n",
       "  iterations per level:               2147483647\n",
       "  stopping rule:                      simple\n",
       "  max. # fruitless moves:             50\n",
       "  Flow Refinement Parameters:\n",
       "    execution policy:                 UNDEFINED\n",
       "-------------------------------------------------------------------------------\n",
       "Local Search Parameters:\n",
       "  Algorithm:                          kway_fm_hyperflow_cutter\n",
       "  iterations per level:               2147483647\n",
       "  stopping rule:                      adaptive_opt\n",
       "  adaptive stopping alpha:            1\n",
       "  Flow Refinement Parameters:\n",
       "    execution policy:                 exponential\n",
       "-------------------------------------------------------------------------------"
      ]
     },
     "execution_count": 11,
     "metadata": {},
     "output_type": "execute_result"
    }
   ],
   "source": [
    "ctx"
   ]
  },
  {
   "cell_type": "code",
   "execution_count": 12,
   "metadata": {},
   "outputs": [],
   "source": [
    "idx_vector = np.array([0, 2, 4, 6])\n",
    "edge_vector = np.array([0, 1, 2, 3, 4, 3])"
   ]
  },
  {
   "cell_type": "code",
   "execution_count": 13,
   "metadata": {},
   "outputs": [],
   "source": [
    "g = kahypar.Hypergraph(5, 3, idx_vector, edge_vector, 2)"
   ]
  },
  {
   "cell_type": "code",
   "execution_count": 14,
   "metadata": {},
   "outputs": [],
   "source": [
    "kahypar.partition(g, ctx)"
   ]
  },
  {
   "cell_type": "code",
   "execution_count": 15,
   "metadata": {},
   "outputs": [],
   "source": [
    "del ctx"
   ]
  },
  {
   "cell_type": "code",
   "execution_count": 16,
   "metadata": {},
   "outputs": [],
   "source": [
    "del g"
   ]
  },
  {
   "cell_type": "code",
   "execution_count": null,
   "metadata": {},
   "outputs": [],
   "source": []
  }
 ],
 "metadata": {
  "kernelspec": {
   "display_name": "graph",
   "language": "python",
   "name": "python3"
  },
  "language_info": {
   "codemirror_mode": {
    "name": "ipython",
    "version": 3
   },
   "file_extension": ".py",
   "mimetype": "text/x-python",
   "name": "python",
   "nbconvert_exporter": "python",
   "pygments_lexer": "ipython3",
   "version": "3.12.8"
  }
 },
 "nbformat": 4,
 "nbformat_minor": 2
}
